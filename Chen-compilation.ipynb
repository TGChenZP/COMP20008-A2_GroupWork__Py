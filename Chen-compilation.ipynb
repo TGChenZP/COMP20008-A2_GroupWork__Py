{
 "cells": [
  {
   "cell_type": "code",
   "execution_count": 1,
   "metadata": {},
   "outputs": [],
   "source": [
    "import pandas as pd\n",
    "import statistics as s"
   ]
  },
  {
   "cell_type": "code",
   "execution_count": 2,
   "metadata": {},
   "outputs": [],
   "source": [
    "#independent variables\n",
    "house = pd.read_csv('LGA_House_Price-2019+stats.csv')\n",
    "\n",
    "#dependent variables\n",
    "crime = pd.read_csv('crime_rate.csv')\n",
    "facility = pd.read_csv('facility_tally.csv')\n",
    "green = pd.read_csv('open_space_tally.csv')\n",
    "response = pd.read_csv('response_time_tally.csv')\n",
    "school = pd.read_csv('school_tally.csv')\n",
    "\n",
    "#stats for 'normalising'\n",
    "area = pd.read_csv('LGA_area_population.csv')"
   ]
  },
  {
   "cell_type": "code",
   "execution_count": 3,
   "metadata": {},
   "outputs": [],
   "source": [
    "#independent variables\n",
    "lga = list(crime['LGA'])[:-1]\n",
    "meanprice = list(house['Average Pouse Price'])\n",
    "medprice = list(house['Median Pouse Price'])"
   ]
  },
  {
   "cell_type": "code",
   "execution_count": 4,
   "metadata": {},
   "outputs": [],
   "source": [
    "#dependent variables\n",
    "crimer = list(crime['Crime rate per 100000'])[:-1]\n",
    "facilityt = list(facility['Number of facilities'])[:-1]\n",
    "greent = list(green['Tally pureland'])[:-1]\n",
    "greena = list(green['Area pureland'])[:-1]\n",
    "responset = list(response['code1 time (sec)'])[:-1]\n",
    "schoolt = list(school['school_counts'])[:-1]"
   ]
  },
  {
   "cell_type": "code",
   "execution_count": 5,
   "metadata": {},
   "outputs": [],
   "source": [
    "#stats for 'normalising'\n",
    "areat = list(area['Area'])[:-1]\n",
    "populationt = list(area['2019 population'])[:-1]\n",
    "nsub = list(house['Number of Suburbs in LGA'])\n",
    "#nsuburbs"
   ]
  },
  {
   "cell_type": "code",
   "execution_count": 6,
   "metadata": {},
   "outputs": [],
   "source": [
    "def standardise1(data):\n",
    "    out = list()\n",
    "    mean = s.mean(data)\n",
    "    std = s.stdev(data)\n",
    "    \n",
    "    for num in data:\n",
    "        tmp = (num-mean)/std\n",
    "        out.append(tmp)\n",
    "    \n",
    "    return out"
   ]
  },
  {
   "cell_type": "code",
   "execution_count": 7,
   "metadata": {},
   "outputs": [],
   "source": [
    "def standardise2(data):\n",
    "    out = list()\n",
    "    mean = s.mean(data)\n",
    "    std = s.stdev(data)\n",
    "    \n",
    "    for num in data:\n",
    "        tmp = (num-mean)/std\n",
    "        out.append(-tmp)\n",
    "    \n",
    "    return out\n",
    "#for response time"
   ]
  },
  {
   "cell_type": "code",
   "execution_count": 8,
   "metadata": {},
   "outputs": [],
   "source": [
    "def normalise1(data):\n",
    "    out = list()\n",
    "    mean = s.mean(data)\n",
    "    drange = max(data) - min(data)\n",
    "    for num in data:\n",
    "        tmp = (num-min(data))/drange\n",
    "        out.append(tmp)\n",
    "    \n",
    "    return out\n",
    "#效果不太好。。。"
   ]
  },
  {
   "cell_type": "code",
   "execution_count": 9,
   "metadata": {},
   "outputs": [],
   "source": [
    "def normalise2(data):\n",
    "    out = list()\n",
    "    mean = s.mean(data)\n",
    "    drange = max(data) - min(data)\n",
    "    for num in data:\n",
    "        tmp = (max(data)-num)/drange\n",
    "        out.append(tmp)\n",
    "    \n",
    "    return out"
   ]
  },
  {
   "cell_type": "code",
   "execution_count": 10,
   "metadata": {},
   "outputs": [],
   "source": [
    "def fivebins(data):\n",
    "    out = list()\n",
    "    sdata = sorted(data)\n",
    "    p1 = sdata[int(len(sdata)/5)]\n",
    "    p2 = sdata[2* int(len(sdata)/5)]\n",
    "    p3 = sdata[3 * int(len(sdata)/5)]\n",
    "    p4 = sdata[4 * int(len(sdata)/5)]\n",
    "\n",
    "    for num in data:\n",
    "        if num <= p1:\n",
    "            out.append(1)\n",
    "        elif p1 < num <= p2:\n",
    "            out.append(2)\n",
    "        elif p2 < num <= p3:\n",
    "            out.append(3)\n",
    "        elif p3 < num <= p4:\n",
    "            out.append(4)\n",
    "        else:\n",
    "            out.append(5)\n",
    "    \n",
    "    return out\n",
    "    \n",
    "#equal length binning"
   ]
  },
  {
   "cell_type": "code",
   "execution_count": 11,
   "metadata": {},
   "outputs": [],
   "source": [
    "def fivebins2(data):\n",
    "    out = list()\n",
    "    sdata = sorted(data)\n",
    "    p1 = sdata[int(len(sdata)/5)]\n",
    "    p2 = sdata[2* int(len(sdata)/5)]\n",
    "    p3 = sdata[3 * int(len(sdata)/5)]\n",
    "    p4 = sdata[4 * int(len(sdata)/5)]\n",
    "\n",
    "    for num in data:\n",
    "        if num <= p1:\n",
    "            out.append(5)\n",
    "        elif p1 < num <= p2:\n",
    "            out.append(4)\n",
    "        elif p2 < num <= p3:\n",
    "            out.append(3)\n",
    "        elif p3 < num <= p4:\n",
    "            out.append(2)\n",
    "        else:\n",
    "            out.append(1)\n",
    "    \n",
    "    return out\n",
    "    \n",
    "#for response time"
   ]
  },
  {
   "cell_type": "code",
   "execution_count": 12,
   "metadata": {},
   "outputs": [],
   "source": [
    "crimer_s = standardise2(crimer)\n",
    "facilityt_s = standardise1(facilityt)\n",
    "greent_s = standardise1(greent)\n",
    "greena_s = standardise1(greena)\n",
    "responset_s = standardise2(responset)\n",
    "schoolt_s = standardise1(schoolt)"
   ]
  },
  {
   "cell_type": "code",
   "execution_count": 13,
   "metadata": {},
   "outputs": [],
   "source": [
    "crimer_b = fivebins2(crimer)\n",
    "facilityt_b = fivebins(facilityt)\n",
    "greent_b = fivebins(greent)\n",
    "greena_b = fivebins(greena)\n",
    "responset_b = fivebins2(responset)\n",
    "schoolt_b = fivebins(schoolt)"
   ]
  },
  {
   "cell_type": "code",
   "execution_count": 14,
   "metadata": {},
   "outputs": [],
   "source": [
    "normmeanprice = normalise1(meanprice)\n",
    "normmedprice = normalise1(medprice)"
   ]
  },
  {
   "cell_type": "code",
   "execution_count": 15,
   "metadata": {},
   "outputs": [],
   "source": [
    "outstandardised = pd.DataFrame({'lga': lga, 'Median House Price': medprice, 'Mean House Price': meanprice, \n",
    "        'Normalised Median House Price': normmedprice, 'Normalised Mean House Price': normmeanprice, \n",
    "        'Crime Rate': crimer_s, 'Facility Tally': facilityt_s, 'Greenspace Tally': greent_s, \n",
    "        'Greenspace_area': greena_s, 'Response Time': responset_s, 'School Tally': schoolt_s, \n",
    "        '(LGA Area)': areat, '(LGA Population)': populationt, '(Num suburbs)': nsub})"
   ]
  },
  {
   "cell_type": "code",
   "execution_count": 16,
   "metadata": {},
   "outputs": [],
   "source": [
    "outfive = pd.DataFrame({'lga': lga, 'Median House Price': medprice, 'Mean House Price': meanprice, \n",
    "        'Normalised Median House Price': normmedprice, 'Normalised Mean House Price': normmeanprice,\n",
    "        'Crime Rate': crimer_b, 'Facility Tally': facilityt_b, 'Greenspace Tally': greent_b, \n",
    "        'Greenspace_area': greena_b, 'Response Time': responset_b, 'School Tally': schoolt_b, \n",
    "        '(LGA Area)': areat, '(LGA Population)': populationt, '(Num suburbs)': nsub})"
   ]
  },
  {
   "cell_type": "code",
   "execution_count": 17,
   "metadata": {},
   "outputs": [],
   "source": [
    "out = pd.DataFrame({'lga': lga, 'Median House Price': medprice, 'Mean House Price': meanprice,\n",
    "        'Normalised Median House Price': normmedprice, 'Normalised Mean House Price': normmeanprice,\n",
    "        'Crime Rate': crimer, 'Facility Tally': facilityt, 'Greenspace Tally': greent, \n",
    "        'Greenspace_area': greena, 'Response Time': responset, 'School Tally': schoolt, \n",
    "        '(LGA Area)': areat, '(LGA Population)': populationt, '(Num suburbs)': nsub})"
   ]
  },
  {
   "cell_type": "code",
   "execution_count": 18,
   "metadata": {},
   "outputs": [],
   "source": [
    "out.to_csv('Compilation.csv')"
   ]
  },
  {
   "cell_type": "code",
   "execution_count": 19,
   "metadata": {},
   "outputs": [],
   "source": [
    "# outfive.to_csv('Compilation_5bins.csv')"
   ]
  },
  {
   "cell_type": "code",
   "execution_count": 20,
   "metadata": {},
   "outputs": [],
   "source": [
    "# outstandardised.to_csv('Compilation_standardised.csv')"
   ]
  },
  {
   "cell_type": "code",
   "execution_count": 21,
   "metadata": {},
   "outputs": [],
   "source": [
    "crimer_n = normalise2(crimer)\n",
    "facilityt_n = normalise1(facilityt)\n",
    "greent_n = normalise1(greent)\n",
    "greena_n = normalise1(greena)\n",
    "responset_n = normalise2(responset)\n",
    "schoolt_n = normalise1(schoolt)"
   ]
  },
  {
   "cell_type": "code",
   "execution_count": 22,
   "metadata": {},
   "outputs": [],
   "source": [
    "outnormal = pd.DataFrame({'lga': lga, 'Median House Price': medprice, 'Mean House Price': meanprice, \n",
    "        'Normalised Median House Price': normmedprice, 'Normalised Mean House Price': normmeanprice,\n",
    "        'Crime Rate': crimer_n, 'Facility Tally': facilityt_n, 'Greenspace Tally': greent_n, \n",
    "        'Greenspace_area': greena_n, 'Response Time': responset_n, 'School Tally': schoolt_n, \n",
    "        '(LGA Area)': areat, '(LGA Population)': populationt, '(Num suburbs)': nsub})"
   ]
  },
  {
   "cell_type": "code",
   "execution_count": 23,
   "metadata": {},
   "outputs": [],
   "source": [
    "outnormal.to_csv('Compilation_normalised.csv')"
   ]
  },
  {
   "cell_type": "code",
   "execution_count": 24,
   "metadata": {},
   "outputs": [],
   "source": [
    "crime_new = crime['Crime rate per 100000']\n",
    "facility_new = facility['Number of facilities']\n",
    "greent_new = green['Tally pureland']\n",
    "greena_new = green['Area pureland']\n",
    "response_new = response['code1 time (sec)']\n",
    "school_new = school['school_counts']"
   ]
  },
  {
   "cell_type": "code",
   "execution_count": 25,
   "metadata": {},
   "outputs": [
    {
     "data": {
      "text/plain": [
       "count     80.000000\n",
       "mean     100.490000\n",
       "std       51.943476\n",
       "min        0.000000\n",
       "25%       65.700000\n",
       "50%       96.850000\n",
       "75%      127.850000\n",
       "max      246.700000\n",
       "Name: Crime rate per 100000, dtype: float64"
      ]
     },
     "execution_count": 25,
     "metadata": {},
     "output_type": "execute_result"
    }
   ],
   "source": [
    "crime_new.describe()"
   ]
  },
  {
   "cell_type": "code",
   "execution_count": 26,
   "metadata": {},
   "outputs": [],
   "source": [
    "def ridoutlier(indep1, indep2, indep3, indep4, data):\n",
    "    q1 = data.describe()[4]\n",
    "    q3 = data.describe()[6]\n",
    "    rangedata = q3-q1\n",
    "    upperfence = q3 + 1.5*rangedata\n",
    "    lowerfence = q1 - 1.5*rangedata\n",
    "    out1 = list()\n",
    "    out2 = list()\n",
    "    out3 = list()\n",
    "    out4 = list()\n",
    "    out5 = list()\n",
    "    for i in range(len(data)-1):\n",
    "        if data[i] >= lowerfence and data[i] <= upperfence:\n",
    "            out1.append(indep1[i])\n",
    "            out2.append(indep2[i])\n",
    "            out3.append(indep3[i])\n",
    "            out4.append(indep4[i])\n",
    "            out5.append(data[i])\n",
    "    \n",
    "    return out1, out2, out3, out4, out5"
   ]
  },
  {
   "cell_type": "code",
   "execution_count": 27,
   "metadata": {},
   "outputs": [],
   "source": [
    "indep11, indep21, indep31, indep41, crime_noout = ridoutlier(meanprice, medprice, normmeanprice, normmedprice, crime_new)\n",
    "indep12, indep22, indep32, indep42, facility_noout = ridoutlier(meanprice, medprice, normmeanprice, normmedprice, facility_new)\n",
    "indep13, indep23, indep33, indep43, greent_noout = ridoutlier(meanprice, medprice, normmeanprice, normmedprice, greent_new)\n",
    "indep14, indep24, indep34, indep44, greena_noout = ridoutlier(meanprice, medprice, normmeanprice, normmedprice, greena_new)\n",
    "indep15, indep25, indep35, indep45, response_noout = ridoutlier(meanprice, medprice, normmeanprice, normmedprice, response_new)\n",
    "indep16, indep26, indep36, indep46, school_noout = ridoutlier(meanprice, medprice, normmeanprice, normmedprice, school_new)"
   ]
  },
  {
   "cell_type": "code",
   "execution_count": 28,
   "metadata": {},
   "outputs": [],
   "source": [
    "crime_noout = normalise2(crime_noout)\n",
    "facility_noout = normalise1(facility_noout)\n",
    "greena_noout = normalise1(greena_noout)\n",
    "response_noout = normalise2(response_noout)\n",
    "school_noout = normalise1(school_noout)"
   ]
  },
  {
   "cell_type": "code",
   "execution_count": 29,
   "metadata": {},
   "outputs": [],
   "source": [
    "out_a = pd.DataFrame({'Mean Price': indep11, 'Median Price': indep21, \n",
    "                      'Normalised Median House Price': indep31, 'Normalised Mean House Price': indep41,\n",
    "                      'Crime Rate No Outlier': crime_noout})\n",
    "out_b = pd.DataFrame({'Mean Price': indep12, 'Median Price': indep22, \n",
    "                      'Normalised Median House Price': indep32, 'Normalised Mean House Price': indep42,\n",
    "                      'Facility No Outlier': facility_noout})\n",
    "out_c = pd.DataFrame({'Mean Price': indep13, 'Median Price': indep23, \n",
    "                      'Normalised Median House Price': indep33, 'Normalised Mean House Price': indep43,\n",
    "                      'Greent No Outlier': greent_noout})\n",
    "out_d = pd.DataFrame({'Mean Price': indep14, 'Median Price': indep24, \n",
    "                      'Normalised Median House Price': indep34, 'Normalised Mean House Price': indep44,\n",
    "                      'Greena No Outlier': greena_noout})\n",
    "out_e = pd.DataFrame({'Mean Price': indep15, 'Median Price': indep25, \n",
    "                      'Normalised Median House Price': indep35, 'Normalised Mean House Price': indep45,\n",
    "                      'Response Time No Outlier': response_noout})\n",
    "out_f = pd.DataFrame({'Mean Price': indep16, 'Median Price': indep26, \n",
    "                      'Normalised Median House Price': indep36, 'Normalised Mean House Price': indep46,\n",
    "                      'School No Outlier': school_noout})"
   ]
  },
  {
   "cell_type": "code",
   "execution_count": 30,
   "metadata": {},
   "outputs": [],
   "source": [
    "# out_a.to_csv('Crime_noout.csv')\n",
    "# out_b.to_csv('Facility_noout.csv')\n",
    "# out_d.to_csv('Greena_noout.csv')\n",
    "# out_e.to_csv('ResponseTime_noout.csv')\n",
    "# out_f.to_csv('School_noout.csv')"
   ]
  },
  {
   "cell_type": "code",
   "execution_count": null,
   "metadata": {},
   "outputs": [],
   "source": []
  }
 ],
 "metadata": {
  "kernelspec": {
   "display_name": "Python 3",
   "language": "python",
   "name": "python3"
  },
  "language_info": {
   "codemirror_mode": {
    "name": "ipython",
    "version": 3
   },
   "file_extension": ".py",
   "mimetype": "text/x-python",
   "name": "python",
   "nbconvert_exporter": "python",
   "pygments_lexer": "ipython3",
   "version": "3.7.4"
  }
 },
 "nbformat": 4,
 "nbformat_minor": 4
}
