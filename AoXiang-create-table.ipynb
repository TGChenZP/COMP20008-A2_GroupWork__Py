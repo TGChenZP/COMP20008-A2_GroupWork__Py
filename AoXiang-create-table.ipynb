{
 "cells": [
  {
   "cell_type": "code",
   "execution_count": 1,
   "metadata": {},
   "outputs": [],
   "source": [
    "import pandas as pd"
   ]
  },
  {
   "cell_type": "code",
   "execution_count": 2,
   "metadata": {},
   "outputs": [],
   "source": [
    "hsl = pd.read_csv('house_price+stats+lsscore.csv')"
   ]
  },
  {
   "cell_type": "code",
   "execution_count": 3,
   "metadata": {},
   "outputs": [
    {
     "data": {
      "text/plain": [
       "Index(['lga', 'Median House Price', 'Mean House Price',\n",
       "       'Normalised Median House Price', 'Normalised Mean House Price',\n",
       "       'Crime Rate', 'Facility Tally', 'Greenspace Tally', 'Greenspace_area',\n",
       "       'Response Time', 'School Tally', '(LGA Area)', '(LGA Population)',\n",
       "       '(Num suburbs)', 'living standard LR', 'living standard NMI'],\n",
       "      dtype='object')"
      ]
     },
     "execution_count": 3,
     "metadata": {},
     "output_type": "execute_result"
    }
   ],
   "source": [
    "hsl.columns"
   ]
  },
  {
   "cell_type": "code",
   "execution_count": 4,
   "metadata": {},
   "outputs": [],
   "source": [
    "table = pd.DataFrame({'LGA Name':hsl['lga'], 'Median House Price':hsl['Median House Price'],'Liveability Score': hsl['living standard NMI']})"
   ]
  },
  {
   "cell_type": "code",
   "execution_count": 5,
   "metadata": {},
   "outputs": [
    {
     "data": {
      "text/html": [
       "<div>\n",
       "<style scoped>\n",
       "    .dataframe tbody tr th:only-of-type {\n",
       "        vertical-align: middle;\n",
       "    }\n",
       "\n",
       "    .dataframe tbody tr th {\n",
       "        vertical-align: top;\n",
       "    }\n",
       "\n",
       "    .dataframe thead th {\n",
       "        text-align: right;\n",
       "    }\n",
       "</style>\n",
       "<table border=\"1\" class=\"dataframe\">\n",
       "  <thead>\n",
       "    <tr style=\"text-align: right;\">\n",
       "      <th></th>\n",
       "      <th>LGA Name</th>\n",
       "      <th>Median House Price</th>\n",
       "      <th>Liveability Score</th>\n",
       "    </tr>\n",
       "  </thead>\n",
       "  <tbody>\n",
       "    <tr>\n",
       "      <th>0</th>\n",
       "      <td>ALPINE</td>\n",
       "      <td>460000</td>\n",
       "      <td>2.279018</td>\n",
       "    </tr>\n",
       "    <tr>\n",
       "      <th>1</th>\n",
       "      <td>ARARAT</td>\n",
       "      <td>163250</td>\n",
       "      <td>2.156228</td>\n",
       "    </tr>\n",
       "    <tr>\n",
       "      <th>2</th>\n",
       "      <td>BALLARAT</td>\n",
       "      <td>416000</td>\n",
       "      <td>2.715337</td>\n",
       "    </tr>\n",
       "    <tr>\n",
       "      <th>3</th>\n",
       "      <td>BANYULE</td>\n",
       "      <td>880500</td>\n",
       "      <td>2.650137</td>\n",
       "    </tr>\n",
       "    <tr>\n",
       "      <th>4</th>\n",
       "      <td>BASS COAST</td>\n",
       "      <td>495500</td>\n",
       "      <td>2.262490</td>\n",
       "    </tr>\n",
       "  </tbody>\n",
       "</table>\n",
       "</div>"
      ],
      "text/plain": [
       "     LGA Name  Median House Price  Liveability Score\n",
       "0      ALPINE              460000           2.279018\n",
       "1      ARARAT              163250           2.156228\n",
       "2    BALLARAT              416000           2.715337\n",
       "3     BANYULE              880500           2.650137\n",
       "4  BASS COAST              495500           2.262490"
      ]
     },
     "execution_count": 5,
     "metadata": {},
     "output_type": "execute_result"
    }
   ],
   "source": [
    "table.head()"
   ]
  },
  {
   "cell_type": "code",
   "execution_count": 6,
   "metadata": {},
   "outputs": [],
   "source": [
    "table.to_csv('liveability table', index=False)"
   ]
  },
  {
   "cell_type": "code",
   "execution_count": 7,
   "metadata": {},
   "outputs": [],
   "source": [
    "table1 = pd.DataFrame({'LGA Name':hsl['lga'], 'Crime Rate':hsl['Crime Rate'],'Facility Tally':hsl['Facility Tally'],'Greenspace Tally':hsl['Greenspace Tally'],'Greenspace_area':hsl['Greenspace_area'],'Response Time':hsl['Response Time'],'School Tally':hsl['School Tally']})"
   ]
  },
  {
   "cell_type": "code",
   "execution_count": 8,
   "metadata": {},
   "outputs": [
    {
     "data": {
      "text/html": [
       "<div>\n",
       "<style scoped>\n",
       "    .dataframe tbody tr th:only-of-type {\n",
       "        vertical-align: middle;\n",
       "    }\n",
       "\n",
       "    .dataframe tbody tr th {\n",
       "        vertical-align: top;\n",
       "    }\n",
       "\n",
       "    .dataframe thead th {\n",
       "        text-align: right;\n",
       "    }\n",
       "</style>\n",
       "<table border=\"1\" class=\"dataframe\">\n",
       "  <thead>\n",
       "    <tr style=\"text-align: right;\">\n",
       "      <th></th>\n",
       "      <th>LGA Name</th>\n",
       "      <th>Crime Rate</th>\n",
       "      <th>Facility Tally</th>\n",
       "      <th>Greenspace Tally</th>\n",
       "      <th>Greenspace_area</th>\n",
       "      <th>Response Time</th>\n",
       "      <th>School Tally</th>\n",
       "    </tr>\n",
       "  </thead>\n",
       "  <tbody>\n",
       "    <tr>\n",
       "      <th>0</th>\n",
       "      <td>ALPINE</td>\n",
       "      <td>0.809080</td>\n",
       "      <td>0.156977</td>\n",
       "      <td>0.000000</td>\n",
       "      <td>0.000000</td>\n",
       "      <td>0.423077</td>\n",
       "      <td>1.0000</td>\n",
       "    </tr>\n",
       "    <tr>\n",
       "      <th>1</th>\n",
       "      <td>ARARAT</td>\n",
       "      <td>0.416700</td>\n",
       "      <td>0.174419</td>\n",
       "      <td>0.000000</td>\n",
       "      <td>0.000000</td>\n",
       "      <td>0.710702</td>\n",
       "      <td>0.9625</td>\n",
       "    </tr>\n",
       "    <tr>\n",
       "      <th>2</th>\n",
       "      <td>BALLARAT</td>\n",
       "      <td>0.431698</td>\n",
       "      <td>0.540698</td>\n",
       "      <td>0.000000</td>\n",
       "      <td>0.000000</td>\n",
       "      <td>0.925585</td>\n",
       "      <td>0.9375</td>\n",
       "    </tr>\n",
       "    <tr>\n",
       "      <th>3</th>\n",
       "      <td>BANYULE</td>\n",
       "      <td>0.693150</td>\n",
       "      <td>0.404070</td>\n",
       "      <td>0.143575</td>\n",
       "      <td>0.005607</td>\n",
       "      <td>0.945652</td>\n",
       "      <td>0.7000</td>\n",
       "    </tr>\n",
       "    <tr>\n",
       "      <th>4</th>\n",
       "      <td>BASS COAST</td>\n",
       "      <td>0.693960</td>\n",
       "      <td>0.229651</td>\n",
       "      <td>0.000000</td>\n",
       "      <td>0.000000</td>\n",
       "      <td>0.738294</td>\n",
       "      <td>0.6875</td>\n",
       "    </tr>\n",
       "  </tbody>\n",
       "</table>\n",
       "</div>"
      ],
      "text/plain": [
       "     LGA Name  Crime Rate  Facility Tally  Greenspace Tally  Greenspace_area  \\\n",
       "0      ALPINE    0.809080        0.156977          0.000000         0.000000   \n",
       "1      ARARAT    0.416700        0.174419          0.000000         0.000000   \n",
       "2    BALLARAT    0.431698        0.540698          0.000000         0.000000   \n",
       "3     BANYULE    0.693150        0.404070          0.143575         0.005607   \n",
       "4  BASS COAST    0.693960        0.229651          0.000000         0.000000   \n",
       "\n",
       "   Response Time  School Tally  \n",
       "0       0.423077        1.0000  \n",
       "1       0.710702        0.9625  \n",
       "2       0.925585        0.9375  \n",
       "3       0.945652        0.7000  \n",
       "4       0.738294        0.6875  "
      ]
     },
     "execution_count": 8,
     "metadata": {},
     "output_type": "execute_result"
    }
   ],
   "source": [
    "table1.head()"
   ]
  },
  {
   "cell_type": "code",
   "execution_count": 9,
   "metadata": {},
   "outputs": [],
   "source": [
    "table1.to_csv('lga_attributes table', index=False)"
   ]
  },
  {
   "cell_type": "code",
   "execution_count": null,
   "metadata": {},
   "outputs": [],
   "source": []
  }
 ],
 "metadata": {
  "kernelspec": {
   "display_name": "Python 3",
   "language": "python",
   "name": "python3"
  },
  "language_info": {
   "codemirror_mode": {
    "name": "ipython",
    "version": 3
   },
   "file_extension": ".py",
   "mimetype": "text/x-python",
   "name": "python",
   "nbconvert_exporter": "python",
   "pygments_lexer": "ipython3",
   "version": "3.7.4"
  }
 },
 "nbformat": 4,
 "nbformat_minor": 4
}
